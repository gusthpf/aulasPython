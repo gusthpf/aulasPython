{
  "nbformat": 4,
  "nbformat_minor": 0,
  "metadata": {
    "colab": {
      "name": "Fase2.ipynb",
      "provenance": []
    },
    "kernelspec": {
      "name": "python3",
      "display_name": "Python 3"
    }
  },
  "cells": [
    {
      "cell_type": "markdown",
      "metadata": {
        "id": "CYNAmoj4zSXl",
        "colab_type": "text"
      },
      "source": [
        "Crie um algoritmo em Python que peça 2 números e imprima o maior deles."
      ]
    },
    {
      "cell_type": "code",
      "metadata": {
        "id": "ViAfpy3GzPN-",
        "colab_type": "code",
        "colab": {}
      },
      "source": [
        "# INSIRA SEU CÓDIGO AQUI\n",
        "num1 = int(input(\"digite um número: \"))\n",
        "num2 = int(input(\"digite outro número: \"))\n",
        "\n",
        "if num1 > num2:\n",
        "  print(\"O primeiro número é maior\")\n",
        "elif num2 > num1:\n",
        "   print(\"O segundo número é maior\") \n",
        "else:\n",
        "  print(\"Os números são iguais\")  "
      ],
      "execution_count": null,
      "outputs": []
    },
    {
      "cell_type": "markdown",
      "metadata": {
        "id": "gdMis92izSmQ",
        "colab_type": "text"
      },
      "source": [
        "Crie um algoritmo em Python que peça um valor e mostre na tela se o valor é positivo ou negativo."
      ]
    },
    {
      "cell_type": "code",
      "metadata": {
        "id": "BFpWkdCBz_zh",
        "colab_type": "code",
        "colab": {}
      },
      "source": [
        "# INSIRA SEU CÓDIGO AQUI\n",
        "numero = int(input(\"Digita aqui um número:\"))\n",
        "\n",
        "if numero > 0:\n",
        "  print(\"Este número é positivo\")\n",
        "else:\n",
        "  print(\"Este número é negativo\")  "
      ],
      "execution_count": null,
      "outputs": []
    },
    {
      "cell_type": "markdown",
      "metadata": {
        "id": "E_0l_Vx6zSo2",
        "colab_type": "text"
      },
      "source": [
        "Crie um algoritmo em Python que verifique se uma letra digitada é vogal ou consoante."
      ]
    },
    {
      "cell_type": "code",
      "metadata": {
        "id": "KwJf7XZS0AZW",
        "colab_type": "code",
        "colab": {}
      },
      "source": [
        "# INSIRA SEU CÓDIGO AQUI\n",
        "\n",
        "letra = input(\"Digite aqui uma letra: \")\n",
        "vogais = [\"a\",\"e\",\"i\",\"o\",\"u\",\"A\",\"E\",\"I\",\"O\",\"U\"]\n",
        "\n",
        "if letra in vogais:\n",
        "  print(f\"A letra {letra} é uma vogal\")  \n",
        "else:\n",
        "  print(f\"a letra {letra} é uma consoante\")\n"
      ],
      "execution_count": null,
      "outputs": []
    },
    {
      "cell_type": "markdown",
      "metadata": {
        "id": "1i4VCiiczSrL",
        "colab_type": "text"
      },
      "source": [
        "Faça um programa para a leitura de duas notas parciais de um aluno. O programa deve calcular a média alcançada por aluno e apresentar:\n",
        "* \"Aprovado\", se a média alcançada for maior ou igual a sete;\n",
        "* \"Reprovado\", se a média for menor do que sete;\n",
        "* \"Aprovado com Distinção\", se a média for igual a 10."
      ]
    },
    {
      "cell_type": "code",
      "metadata": {
        "id": "yoW67hjA0BHy",
        "colab_type": "code",
        "colab": {}
      },
      "source": [
        "# INSIRA SEU CÓDIGO AQUI\n",
        "nota1 = float(input(\"Informe a primeira nota: \"))\n",
        "nota2 = float(input(\"Informe a segunda nota: \"))\n",
        "\n",
        "media = (nota1+nota2)/2\n",
        "\n",
        "if media < 7:\n",
        "  print(\"Reprovado\")\n",
        "elif media < 10:\n",
        "  print(\"Aprovado\")\n",
        "else:\n",
        "  print(\"Aprovado com distinção\")   "
      ],
      "execution_count": null,
      "outputs": []
    },
    {
      "cell_type": "markdown",
      "metadata": {
        "id": "4ep7kezvzStO",
        "colab_type": "text"
      },
      "source": [
        "Crie um algoritmo em Python que leia três números e mostre o maior deles."
      ]
    },
    {
      "cell_type": "code",
      "metadata": {
        "id": "6K6IHWdr0Blt",
        "colab_type": "code",
        "colab": {}
      },
      "source": [
        "# INSIRA SEU CÓDIGO AQUI\n",
        "num1 = int(input(\"Digite um número: \"))\n",
        "num2 = int(input(\"Digite um número: \"))\n",
        "num3 = int(input(\"Digite um número: \"))\n",
        "\n",
        "if num1 > num2 and num1 > num3:\n",
        "  print(\"o primeiro número é o maior\")\n",
        "elif num2 > num1 and num2 > num3:\n",
        "  print(\"o segundo número é o maior\")\n",
        "else:\n",
        "  print(\"o terceiro número é o maior\")    "
      ],
      "execution_count": null,
      "outputs": []
    },
    {
      "cell_type": "markdown",
      "metadata": {
        "id": "u6__NaXqzeYg",
        "colab_type": "text"
      },
      "source": [
        "Crie um algoritmo em Python que leia três números e mostre o maior e o menor deles."
      ]
    },
    {
      "cell_type": "code",
      "metadata": {
        "id": "mm2L7g3x0Cfx",
        "colab_type": "code",
        "colab": {}
      },
      "source": [
        "# INSIRA SEU CÓDIGO AQUI\n",
        "num1 = int(input(\"Digite um número: \"))\n",
        "num2 = int(input(\"Digite um número: \"))\n",
        "num3 = int(input(\"Digite um número: \"))\n",
        "\n",
        "if num1 > num2 > num3 and num2 > num3:\n",
        "  print(f\"maior:{num1} menor:{num3}\")\n",
        "elif num1 > num3 and num3 > num2:\n",
        "  print(f\"maior:{num1}  menor: {num2}\")\n",
        "elif num2 > num1 and num1 > num3:\n",
        "   print(f\"maior:{num2}  menor: {num3}\")\n",
        "elif num2 > num3 and num3 > num1:\n",
        "  print(f\"maior:{num2}  menor: {num1}\")\n",
        "elif num3 > num2 and num2 > num1:\n",
        "   print(f\"maior:{num3}  menor: {num1}\")\n",
        "else:\n",
        "   print(f\"maior:{num3}  menor: {num2}\")       "
      ],
      "execution_count": null,
      "outputs": []
    },
    {
      "cell_type": "markdown",
      "metadata": {
        "id": "lIlfG-ATzgOr",
        "colab_type": "text"
      },
      "source": [
        "Faça um programa que pergunte o preço de 5 produtos e informe qual produto você deve comprar, sabendo que a decisão é sempre pelo mais barato."
      ]
    },
    {
      "cell_type": "code",
      "metadata": {
        "id": "-y4pB6br0DD_",
        "colab_type": "code",
        "colab": {}
      },
      "source": [
        "# INSIRA SEU CÓDIGO AQUI\n",
        "valores = []\n",
        "\n",
        "for c in range(0,5):\n",
        "  num =(int(input(f\"digite o preço de um produto para a posição {c}: \")))\n",
        "  valores.append(num)\n",
        "  print(f\"voce digitou os valores: {valores}\")\n",
        "  print(f\"Produto mais caro: {max(valores)}\")\n",
        "  print(f\"produto mais barato: {min(valores)}\")"
      ],
      "execution_count": null,
      "outputs": []
    },
    {
      "cell_type": "markdown",
      "metadata": {
        "id": "Vj4OXsJQziu_",
        "colab_type": "text"
      },
      "source": [
        "Crie um algoritmo em Python que leia três números e mostre-os em ordem decrescente."
      ]
    },
    {
      "cell_type": "code",
      "metadata": {
        "id": "RmApGpg30D00",
        "colab_type": "code",
        "colab": {}
      },
      "source": [
        "# INSIRA SEU CÓDIGO AQUI\n",
        "\n",
        "valores = []\n",
        "\n",
        "for c in range(0,3):\n",
        "  num =(int(input(f\"digite um número: \")))\n",
        "  valores.append(num)\n",
        "  print(f\"voce digitou os valores: {valores}\")\n",
        "  print(f\"maior número: {max(valores)}\")\n",
        "  print(f\"menor número: {min(valores)}\")"
      ],
      "execution_count": null,
      "outputs": []
    },
    {
      "cell_type": "markdown",
      "metadata": {
        "id": "e7id8Ewgzlow",
        "colab_type": "text"
      },
      "source": [
        "As Organizações Mendéz resolveram dar um aumento de salário aos seus colaboradores e lhe contraram para desenvolver o programa que calculará os reajustes em Python. Faça um programa que receba o salário de um colaborador e o reajuste segundo o seguinte critério, baseado no salário atual:\n",
        "\n",
        "* salários entre 680,00 e 800,00 : aumento de 15%<br>\n",
        "* salários entre 800,00 e 2500,00 : aumento de 10%<br>\n",
        "* salários de 2500,00 em diante : aumento de 5% após o aumento ser realizado.\n",
        "\n",
        "Informe na tela:\n",
        "* o salário antes do reajuste;\n",
        "* o percentual de aumento aplicado;\n",
        "* o valor do aumento;\n",
        "* o novo salário, após o aumento."
      ]
    },
    {
      "cell_type": "code",
      "metadata": {
        "id": "Kl0ainsv0Eif",
        "colab_type": "code",
        "colab": {}
      },
      "source": [
        "# INSIRA SEU CÓDIGO AQUI\n",
        "\n",
        "print(\"Bem vindo as Organizações Mendéz\")\n",
        "salario = float(input(\"Por favor digite o seu salário atual: \"))\n",
        "\n",
        "if salario >= 680 and salario < 800:\n",
        "  percentual =  15\n",
        "\n",
        "elif salario >= 800 and salario < 2500:\n",
        "  percentual = 20\n",
        "\n",
        "else:\n",
        "  percentual = 5\n",
        "\n",
        "percentual_aumento = (percentual/100)\n",
        "valor_aumento = salario * percentual_aumento\n",
        "novo_salario = salario + valor_aumento\n",
        "\n",
        "print(f\"Salário antigo: {salario} reais\")\n",
        "print(f\"percentual de aumento: {percentual_aumento}\")\n",
        "print(f\"Valor de reajuste salarial: {valor_aumento} reais\")\n",
        "print(f\"Novo sálario é de: {novo_salario} reais\")"
      ],
      "execution_count": null,
      "outputs": []
    }
  ]
}
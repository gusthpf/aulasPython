{
  "nbformat": 4,
  "nbformat_minor": 0,
  "metadata": {
    "colab": {
      "name": "Fase1.ipynb",
      "provenance": []
    },
    "kernelspec": {
      "name": "python3",
      "display_name": "Python 3"
    }
  },
  "cells": [
    {
      "cell_type": "markdown",
      "metadata": {
        "id": "CYNAmoj4zSXl",
        "colab_type": "text"
      },
      "source": [
        "Crie um algoritmo em Python que mostre a mensagem \"Alo mundo\" na tela."
      ]
    },
    {
      "cell_type": "code",
      "metadata": {
        "id": "ViAfpy3GzPN-",
        "colab_type": "code",
        "colab": {}
      },
      "source": [
        "# INSIRA SEU CÓDIGO AQUI\n",
        "print(\"Hello World!\")"
      ],
      "execution_count": null,
      "outputs": []
    },
    {
      "cell_type": "markdown",
      "metadata": {
        "id": "gdMis92izSmQ",
        "colab_type": "text"
      },
      "source": [
        "Crie um algoritmo em Python que peça dois números e imprima a soma."
      ]
    },
    {
      "cell_type": "code",
      "metadata": {
        "id": "BFpWkdCBz_zh",
        "colab_type": "code",
        "colab": {}
      },
      "source": [
        "# INSIRA SEU CÓDIGO AQUI\n",
        "x = int(input(\"Digite um numero: \"))\n",
        "y = int(input(\"Digite outro número: \"))\n",
        "soma = x+y\n",
        "print(f\"A soma é: {soma}\")"
      ],
      "execution_count": null,
      "outputs": []
    },
    {
      "cell_type": "markdown",
      "metadata": {
        "id": "E_0l_Vx6zSo2",
        "colab_type": "text"
      },
      "source": [
        "Crie um algoritmo em Python que peça um número e então mostre a mensagem O número informado foi [número]."
      ]
    },
    {
      "cell_type": "code",
      "metadata": {
        "id": "KwJf7XZS0AZW",
        "colab_type": "code",
        "colab": {}
      },
      "source": [
        "# INSIRA SEU CÓDIGO AQUI\n",
        "numero = int(input(\"Digite um número: \"))\n",
        "print(f\"O número informado foi: {numero}\")\n"
      ],
      "execution_count": null,
      "outputs": []
    },
    {
      "cell_type": "markdown",
      "metadata": {
        "id": "1i4VCiiczSrL",
        "colab_type": "text"
      },
      "source": [
        "Crie um algoritmo em Python que converta metros para centímetros."
      ]
    },
    {
      "cell_type": "code",
      "metadata": {
        "id": "yoW67hjA0BHy",
        "colab_type": "code",
        "colab": {}
      },
      "source": [
        "# INSIRA SEU CÓDIGO AQUI\n",
        "metros = float(input(\"Digite aqui a sua altura em metros: \"))\n",
        "centimetro = (metros * 100)\n",
        "print(f\"Sua altura em centímetros é: {centimetro:.0f} cm\")"
      ],
      "execution_count": null,
      "outputs": []
    },
    {
      "cell_type": "markdown",
      "metadata": {
        "id": "4ep7kezvzStO",
        "colab_type": "text"
      },
      "source": [
        "Crie um algoritmo em Python que peça as 4 notas bimestrais e mostre a média."
      ]
    },
    {
      "cell_type": "code",
      "metadata": {
        "id": "6K6IHWdr0Blt",
        "colab_type": "code",
        "colab": {}
      },
      "source": [
        "# INSIRA SEU CÓDIGO AQUI\n",
        "n1 = float(input(\"Digite a sua primeira nota do bimestre: \"))\n",
        "n2 = float(input(\"Digite a sua segunda nota do bimestre: \"))\n",
        "n3 = float(input(\"Digite a sua terceira nota do bimestre: \"))\n",
        "n4 = float(input(\"Digite a sua quarta nota do bimestre: \"))\n",
        "\n",
        "media = (n1+n2+n3+n4)/4\n",
        "\n",
        "print(f\"Sua média final foi: {media:.2f}\")"
      ],
      "execution_count": null,
      "outputs": []
    },
    {
      "cell_type": "code",
      "metadata": {
        "id": "jbzJfRzHe57X",
        "colab_type": "code",
        "colab": {}
      },
      "source": [
        ""
      ],
      "execution_count": null,
      "outputs": []
    },
    {
      "cell_type": "markdown",
      "metadata": {
        "id": "u6__NaXqzeYg",
        "colab_type": "text"
      },
      "source": [
        "Crie um algoritmo em Python que peça o raio de um círculo, calcule e mostre sua área."
      ]
    },
    {
      "cell_type": "code",
      "metadata": {
        "id": "mm2L7g3x0Cfx",
        "colab_type": "code",
        "colab": {}
      },
      "source": [
        "# INSIRA SEU CÓDIGO AQUI\n",
        "import math\n",
        "pi1 = math.pi\n",
        "raio_circulo = float(input(\"Digite aqui o raio de um círculo: \"))\n",
        "area_circulo = pi1 * (raio_circulo**2)\n",
        "print(f\"área do circulo é de:{area_circulo: .2f}\")\n"
      ],
      "execution_count": null,
      "outputs": []
    },
    {
      "cell_type": "markdown",
      "metadata": {
        "id": "lIlfG-ATzgOr",
        "colab_type": "text"
      },
      "source": [
        "Crie um algoritmo em Python que calcule a área de um quadrado, em seguida mostre o dobro desta área para o usuário."
      ]
    },
    {
      "cell_type": "code",
      "metadata": {
        "id": "-y4pB6br0DD_",
        "colab_type": "code",
        "colab": {}
      },
      "source": [
        "# INSIRA SEU CÓDIGO AQUI\n",
        "\n",
        "lado = int(input(\"Digite aqui o tamanho de um lado do quadrado: \"))\n",
        "area_quadrado = (lado * lado)\n",
        "dobro_area = (area_quadrado * 2)\n",
        "\n",
        "print(f\"A área calculada é de: {area_quadrado} e o dobro da área informada é de: {dobro_area}\")"
      ],
      "execution_count": null,
      "outputs": []
    },
    {
      "cell_type": "markdown",
      "metadata": {
        "id": "Vj4OXsJQziu_",
        "colab_type": "text"
      },
      "source": [
        "Crie um algoritmo em Python que pergunte quanto você ganha por hora e o número de horas trabalhadas no mês. Calcule e mostre o total do seu salário no referido mês.\n"
      ]
    },
    {
      "cell_type": "code",
      "metadata": {
        "id": "RmApGpg30D00",
        "colab_type": "code",
        "colab": {}
      },
      "source": [
        "# INSIRA SEU CÓDIGO AQUI\n",
        "\n",
        "salario_hora = float(input(\"Quanto vale a sua hora de trabalho: \"))\n",
        "horas_mensal = int(input(\"Qual sua carga horária mensal: \"))\n",
        "\n",
        "salario_mes = (salario_hora * horas_mensal)\n",
        "\n",
        "\n",
        "print(f\"Seu salario por mês é de: {salario_mes}\")\n"
      ],
      "execution_count": null,
      "outputs": []
    },
    {
      "cell_type": "markdown",
      "metadata": {
        "id": "e7id8Ewgzlow",
        "colab_type": "text"
      },
      "source": [
        "Crie um algoritmo em Python que peça a temperatura em graus Farenheit, transforme e mostre a temperatura em graus Celsius.\n",
        "C = (5 * (F-32) / 9)."
      ]
    },
    {
      "cell_type": "code",
      "metadata": {
        "id": "Kl0ainsv0Eif",
        "colab_type": "code",
        "colab": {}
      },
      "source": [
        "# INSIRA SEU CÓDIGO AQUI\n",
        "\n",
        "temperatura_farenheit = float(input(\"Digite uma temperatura em graus Farenheit\"))\n",
        "\n",
        "temperatura_celsius = ((temperatura_farenheit  - 32) /1.8)\n",
        "\n",
        "print(f\"Sua temperatura em Celsius é de:{temperatura_celsius} ºC\")"
      ],
      "execution_count": null,
      "outputs": []
    },
    {
      "cell_type": "markdown",
      "metadata": {
        "id": "mFCgXRPaznno",
        "colab_type": "text"
      },
      "source": [
        "Crie um algoritmo em Python que peça a temperatura em graus Celsius, transforme e mostre em graus Farenheit."
      ]
    },
    {
      "cell_type": "code",
      "metadata": {
        "id": "xEAAHRi00FS8",
        "colab_type": "code",
        "colab": {}
      },
      "source": [
        "# INSIRA SEU CÓDIGO AQUI\n",
        "\n",
        "temperatura_celsius = float(input(\"Digite uma temperatura em graus Celsius: \"))\n",
        "\n",
        "temperatura_farenheit = ((temperatura_celsius * 1.8 ) + 32)\n",
        "\n",
        "print(f\"A temperatura em Farenheit é de:{temperatura_farenheit} ºF\")\n"
      ],
      "execution_count": null,
      "outputs": []
    },
    {
      "cell_type": "markdown",
      "metadata": {
        "id": "j3fdhu-8zqu9",
        "colab_type": "text"
      },
      "source": [
        "Crie um algoritmo em Python que peça 2 números inteiros e um número real. Calcule e mostre:\n",
        "* a soma do dobro do primeiro com metade do segundo .\n",
        "* a soma do triplo do primeiro com o terceiro.\n",
        "* o terceiro elevado ao cubo."
      ]
    },
    {
      "cell_type": "code",
      "metadata": {
        "id": "ZEqZrKjt0F5B",
        "colab_type": "code",
        "colab": {}
      },
      "source": [
        "# INSIRA SEU CÓDIGO AQUI\n",
        "num1 = int(input(\"Digite um número: \"))\n",
        "num2 = int(input(\"Digite outro número: \"))\n",
        "num3 = float(input(\"Digite um terceiro número:\"))\n",
        "\n",
        "resultado_1 = ((num1 * 2) + (num2 / 2))\n",
        "resultado_2 = ((num1 * 3) + num3)\n",
        "resultado_3 = (num3 ** 3)\n",
        "\n",
        "print(f\"Seus resultados dos referidos cálculos foram: {resultado_1} , {resultado_2} e {resultado_3}\")"
      ],
      "execution_count": null,
      "outputs": []
    }
  ]
}